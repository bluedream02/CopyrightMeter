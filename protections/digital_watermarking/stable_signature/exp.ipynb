{
 "cells": [
  {
   "cell_type": "code",
   "execution_count": null,
   "metadata": {},
   "outputs": [],
   "source": [
    "command = f\"finetune_ldm_decoder.py --num_keys 1 \\\n",
    "    --ldm_config /path/stable-diffusion-1-5-original/v1-inference.yaml \\\n",
    "    --ldm_ckpt /path/stable-diffusion-1-5-original/v1-5-pruned.ckpt \\\n",
    "    --msg_decoder_path ./dec_48b_whit.torchscript.pt \\\n",
    "    --train_dir /path/dataset/wikiart \\\n",
    "    --val_dir ./data1\"\n",
    "%run -i $command"
   ]
  },
  {
   "cell_type": "code",
   "execution_count": null,
   "metadata": {},
   "outputs": [],
   "source": [
    "import torch \n",
    "import sys\n",
    "\n",
    "device = torch.device(\"cuda\")\n",
    "\n",
    "from omegaconf import OmegaConf \n",
    "from diffusers import StableDiffusionPipeline \n",
    "from utils_model import load_model_from_config\n",
    "\n",
    "\n",
    "# loading the pipeline, and replacing the decode function of the pipe\n",
    "pipe = StableDiffusionPipeline.from_pretrained(\"/path/stable-diffusion-2-1-base\")\n",
    "pipe = pipe.to(\"cuda\")\n",
    "\n",
    "img = pipe(\"a painting by cityscape\").images[0]\n",
    "img.save(\"./cityscape1.png\")\n"
   ]
  },
  {
   "cell_type": "code",
   "execution_count": null,
   "metadata": {},
   "outputs": [],
   "source": [
    "import torch \n",
    "import sys\n",
    "import os\n",
    "\n",
    "device = torch.device(\"cuda\")\n",
    "\n",
    "from omegaconf import OmegaConf \n",
    "from diffusers import StableDiffusionPipeline \n",
    "from utils_model import load_model_from_config\n",
    "\n",
    "sys.path.append('src')\n",
    "from ldm.models.autoencoder import AutoencoderKL\n",
    "from ldm.models.diffusion.ddpm import LatentDiffusion\n",
    "from loss.loss_provider import LossProvider\n",
    "\n",
    "ldm_config = \"/path/stable-diffusion-2-1-base-original/v2-inference.yaml\"\n",
    "ldm_ckpt = \"/path/stable-diffusion-2-1-base-original/v2-1_512-ema-pruned.ckpt\"\n",
    "\n",
    "print(f'>>> Building LDM model with config {ldm_config} and weights from {ldm_ckpt}...')\n",
    "config = OmegaConf.load(f\"{ldm_config}\")\n",
    "ldm_ae = load_model_from_config(config, ldm_ckpt)\n",
    "ldm_aef = ldm_ae.first_stage_model\n",
    "ldm_aef.eval()\n",
    "\n",
    "# loading the fine-tuned decoder weights\n",
    "state_dict = torch.load(\"./output/checkpoint_000.pth\")\n",
    "unexpected_keys = ldm_aef.load_state_dict(state_dict, strict=False)\n",
    "print(unexpected_keys)\n",
    "print(\"you should check that the decoder keys are correctly matched\")\n",
    "\n",
    "\n",
    "pipe = StableDiffusionPipeline.from_pretrained(\"/path/stable-diffusion-2-1-base\", safety_checker=None)\n",
    "pipe = pipe.to(\"cuda\")\n",
    "pipe.vae.decode = (lambda x,  *args, **kwargs: ldm_aef.decode(x).unsqueeze(0))\n",
    "\n",
    "img = pipe(f\"the cat drinks water.\").images[0]\n",
    "img.save(f\"cat.png\")\n"
   ]
  },
  {
   "cell_type": "code",
   "execution_count": null,
   "metadata": {},
   "outputs": [],
   "source": [
    "import subprocess\n",
    "\n",
    "\n",
    "!python ./run_evals.py --eval_imgs False --eval_bits True \\\n",
    "    --img_dir \"./attack_images/artist/10_resize_restore\" \\\n",
    "    --key_str '111010110101000001010111010011010100010000100111'\n",
    "\n",
    "import pandas as pd\n",
    "data = pd.read_csv(\"./output/log_stats.csv\")\n",
    "print(data[\"bit_acc_none\"].mean())"
   ]
  },
  {
   "cell_type": "code",
   "execution_count": null,
   "metadata": {},
   "outputs": [],
   "source": [
    "artists = ['albrecht-durer', 'childe-hassam', 'claude-monet', 'edgar-degas', 'eugene-boudin', 'ilya-repin',\n",
    "           'john-singer-sargent', 'pierre-auguste-renoir', 'rembrandt', 'vincent-van-gogh']\n",
    "concepts = ['decoritems_houseplant', 'furniture_chair', 'jewelry_earring', 'luggage_purse', 'person', 'plushie_panda',\n",
    "           'things_bottle', 'things_headphone', 'transport_car', 'wearable_sunglasses']\n",
    "people = ['Donald_Trump', 'Elon_Reeve_Musk', 'Jackie_Chan', 'Leonardo_DiCaprio', 'Taylor_Alison_Swift']\n",
    "import os\n",
    "import shutil\n",
    "\n",
    "folder = \"./outputs/artist\"\n",
    "for sub in os.listdir(folder):\n",
    "    subfoler = folder + \"/\" + sub + \"/\"\n",
    "    for n in os.listdir(subfoler):\n",
    "        shutil.copy2(subfoler + n, \"./watermarked_image/artist\" + f\"/{sub}_{n}\")"
   ]
  }
 ],
 "metadata": {
  "kernelspec": {
   "display_name": "sa-sd",
   "language": "python",
   "name": "python3"
  },
  "language_info": {
   "codemirror_mode": {
    "name": "ipython",
    "version": 3
   },
   "file_extension": ".py",
   "mimetype": "text/x-python",
   "name": "python",
   "nbconvert_exporter": "python",
   "pygments_lexer": "ipython3",
   "version": "3.8.5"
  }
 },
 "nbformat": 4,
 "nbformat_minor": 2
}
