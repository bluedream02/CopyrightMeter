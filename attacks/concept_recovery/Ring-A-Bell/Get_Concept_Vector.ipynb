{
 "cells": [
  {
   "cell_type": "code",
   "execution_count": 1,
   "id": "ad6b5a56",
   "metadata": {},
   "outputs": [],
   "source": [
    "import numpy as np\n",
    "from transformers import CLIPTextModel, CLIPTokenizer\n",
    "import pandas as pd"
   ]
  },
  {
   "cell_type": "markdown",
   "id": "6bea50fe",
   "metadata": {},
   "source": [
    "# Concept Vector of Violence"
   ]
  },
  {
   "cell_type": "code",
   "execution_count": 26,
   "id": "904a6d13",
   "metadata": {},
   "outputs": [],
   "source": [
    "dir_ = \"/path/stable-diffusion-1-5\"\n",
    "tokenizer = CLIPTokenizer.from_pretrained(dir_, subfolder=\"tokenizer\")\n",
    "text_encoder = CLIPTextModel.from_pretrained(dir_, subfolder=\"text_encoder\").to('cuda')\n",
    "num_samples = 5\n",
    "df = pd.read_csv('data/Prompts_For_ConceptVector/rembrandt.csv')\n",
    "violence_text=[]\n",
    "prompts = df['Prompt']\n",
    "for prompt in prompts:\n",
    "    prompt = [f\"{prompt}\"]*num_samples\n",
    "    text_input = tokenizer(prompt ,padding=\"max_length\", max_length=77,  truncation=True,  return_tensors=\"pt\")\n",
    "    embed = text_encoder(text_input.input_ids.to('cuda'), return_dict=True)[0] \n",
    "    violence_text.extend(embed.detach().cpu().numpy())\n",
    "violence_text = np.array(violence_text)\n",
    "NoViolence_text = []\n",
    "df = pd.read_csv('data/Prompts_For_ConceptVector/painting.csv')\n",
    "prompts = df['Prompt']\n",
    "for prompt in prompts:\n",
    "    prompt = [f\"{prompt}\"]*num_samples\n",
    "    text_input = tokenizer(prompt ,padding=\"max_length\", max_length=77,  truncation=True,  return_tensors=\"pt\")\n",
    "    embed = text_encoder(text_input.input_ids.to('cuda'), return_dict=True)[0] \n",
    "    NoViolence_text.extend(embed.detach().cpu().numpy())\n",
    "NoViolence_text = np.array(NoViolence_text)"
   ]
  },
  {
   "cell_type": "code",
   "execution_count": 27,
   "id": "9615bd95",
   "metadata": {},
   "outputs": [],
   "source": [
    "vec1 = np.mean(violence_text, axis=0)\n",
    "vec2 = np.mean(NoViolence_text, axis=0)\n",
    "vec = vec1 - vec2\n",
    "file_path1 = 'rembrandt_text.npy'\n",
    "# 使用 np.save() 函数保存数组为 .npy 文件\n",
    "np.save(file_path1, vec)"
   ]
  },
  {
   "cell_type": "markdown",
   "id": "80bb0487",
   "metadata": {},
   "source": [
    "# Concept Vector of Nudity"
   ]
  },
  {
   "cell_type": "code",
   "execution_count": 7,
   "id": "6202a0e0",
   "metadata": {
    "scrolled": true
   },
   "outputs": [],
   "source": [
    "dir_ = \"/path/stable-diffusion-1-5\"\n",
    "tokenizer = CLIPTokenizer.from_pretrained(\"/path/models--openai--clip-vit-large-patch14\")\n",
    "text_encoder = CLIPTextModel.from_pretrained(\"/path/models--openai--clip-vit-large-patch14\").to('cuda')\n",
    "num_samples = 5\n",
    "df = pd.read_csv('./data/Prompts_For_ConceptVector/Nudity_prompt.csv')\n",
    "nudity_text=[]\n",
    "for _, row in df.iterrows():\n",
    "    if row.clothes != 'None':\n",
    "        if row.people == 'None':\n",
    "            prompt = [f\"{row.nudity}, {row.location}\"]*num_samples\n",
    "        else:\n",
    "            prompt = [f\"{row.nudity} {row.people}, {row.location}\"]*num_samples\n",
    "    else:\n",
    "        prompt = [f\"{row.nudity} {row.people}, {row.location}\"]*num_samples\n",
    "    text_input = tokenizer(prompt ,padding=\"max_length\", max_length=77,  truncation=True,  return_tensors=\"pt\")\n",
    "    embed = text_encoder(text_input.input_ids.to('cuda'), return_dict=True)[0] \n",
    "    nudity_text.extend(embed.detach().cpu().numpy())\n",
    "nudity_text = np.array(nudity_text)\n",
    "\n",
    "NoNudity_text = []\n",
    "df = pd.read_csv('./data/Prompts_For_ConceptVector/NoNudity_prompt.csv')\n",
    "for _, row in df.iterrows():\n",
    "    prompt = [f\"{row.prompt}\"]*num_samples\n",
    "    text_input = tokenizer(prompt ,padding=\"max_length\", max_length=77,  truncation=True,  return_tensors=\"pt\")\n",
    "    embed = text_encoder(text_input.input_ids.to('cuda'), return_dict=True)[0] \n",
    "    NoNudity_text.extend(embed.detach().cpu().numpy())\n",
    "NoNudity_text = np.array(NoNudity_text)"
   ]
  },
  {
   "cell_type": "markdown",
   "id": "1fe53a9c",
   "metadata": {},
   "source": [
    "### Why did the indices of fail occur?\n",
    "<br>\n",
    "\n",
    "To ensure the quality of nudity prompts, we utilize SD to generate 5 images for each prompt. Subsequently, we employ the NudeNet Detector to identify images without nudity. To obtain the concept vector, we discard the failed indices."
   ]
  },
  {
   "cell_type": "code",
   "execution_count": 9,
   "id": "21a775f4",
   "metadata": {},
   "outputs": [],
   "source": [
    "fail = [134, 15, 16, 147, 151, 35, 38, 174, 55, 62, 202, 204, 91, 93, 95, 96, 98, 106, 109]\n",
    "nudity_text = np.delete(nudity_text, fail, axis=0)\n",
    "NoNudity_text = np.delete(NoNudity_text, fail, axis=0)\n",
    "vec = np.mean(nudity_text - NoNudity_text, axis=0)"
   ]
  },
  {
   "cell_type": "code",
   "execution_count": 10,
   "id": "866ec6be",
   "metadata": {},
   "outputs": [],
   "source": [
    "file_path1 = 'nudity_text.npy'\n",
    "np.save(file_path1, vec)"
   ]
  }
 ],
 "metadata": {
  "kernelspec": {
   "display_name": "Python 3 (ipykernel)",
   "language": "python",
   "name": "python3"
  },
  "language_info": {
   "codemirror_mode": {
    "name": "ipython",
    "version": 3
   },
   "file_extension": ".py",
   "mimetype": "text/x-python",
   "name": "python",
   "nbconvert_exporter": "python",
   "pygments_lexer": "ipython3",
   "version": "3.8.0"
  }
 },
 "nbformat": 4,
 "nbformat_minor": 5
}
